{
 "cells": [
  {
   "cell_type": "code",
   "execution_count": 2,
   "id": "030448fb",
   "metadata": {},
   "outputs": [],
   "source": [
    "import sqlite3 as sq"
   ]
  },
  {
   "cell_type": "code",
   "execution_count": 3,
   "id": "9826bfee",
   "metadata": {},
   "outputs": [],
   "source": [
    "con = sq.connect('ESM.db')"
   ]
  },
  {
   "cell_type": "code",
   "execution_count": 4,
   "id": "1675b1ec",
   "metadata": {},
   "outputs": [],
   "source": [
    "cur = con.cursor()"
   ]
  },
  {
   "cell_type": "markdown",
   "id": "8e069f98",
   "metadata": {},
   "source": [
    "1.Create Table Employee."
   ]
  },
  {
   "cell_type": "code",
   "execution_count": 5,
   "id": "ee3bce69",
   "metadata": {},
   "outputs": [],
   "source": [
    "q='''create table if not exists employee(eid int primary key,ename text,dept text,basic int,branch text)'''"
   ]
  },
  {
   "cell_type": "code",
   "execution_count": 6,
   "id": "7ff340b4",
   "metadata": {},
   "outputs": [
    {
     "data": {
      "text/plain": [
       "<sqlite3.Cursor at 0x2335c0ec2c0>"
      ]
     },
     "execution_count": 6,
     "metadata": {},
     "output_type": "execute_result"
    }
   ],
   "source": [
    "cur.execute(q)"
   ]
  },
  {
   "cell_type": "code",
   "execution_count": 7,
   "id": "8a307855",
   "metadata": {},
   "outputs": [],
   "source": [
    "con.commit()"
   ]
  },
  {
   "cell_type": "markdown",
   "id": "d57491c9",
   "metadata": {},
   "source": [
    "2.Insert 5 Record Directly."
   ]
  },
  {
   "cell_type": "code",
   "execution_count": 9,
   "id": "01a38db9",
   "metadata": {},
   "outputs": [],
   "source": [
    "i='''insert into employee values(1,'om','Account',10000,'surat'),\n",
    "                                (2,'sai','Inventory',6000,'mumbai'),\n",
    "                                (3,'ram','HR',7000,'baroda'),\n",
    "                                (4,'radha','IT',9000,'pune'),\n",
    "                                (5,'kishan','HR',5000,'bardoli')'''"
   ]
  },
  {
   "cell_type": "markdown",
   "id": "e823115f",
   "metadata": {},
   "source": [
    "Insert 5 Record Using Tuple"
   ]
  },
  {
   "cell_type": "code",
   "execution_count": 11,
   "id": "c08fc913",
   "metadata": {},
   "outputs": [],
   "source": [
    "i1=[(6,'riya','Account',10000,'delhi'),\n",
    "    (7,'mansi','IT',4500,'navsari'),\n",
    "    (8,'priya','HR',9000,'surat'),\n",
    "    (9,'misti','Inventory',5600,'bharuch'),\n",
    "    (10,'mitali','HR',9500,'bardoli')]"
   ]
  },
  {
   "cell_type": "markdown",
   "id": "afcd2590",
   "metadata": {},
   "source": [
    "Insert 5 Record Taking Input From User"
   ]
  },
  {
   "cell_type": "code",
   "execution_count": 12,
   "id": "262ff6ea",
   "metadata": {},
   "outputs": [],
   "source": [
    "i2=\"insert into employee values(?,?,?,?,?)\""
   ]
  },
  {
   "cell_type": "code",
   "execution_count": 13,
   "id": "11b4e90c",
   "metadata": {},
   "outputs": [],
   "source": [
    "L=[]"
   ]
  },
  {
   "cell_type": "code",
   "execution_count": 14,
   "id": "03029b71",
   "metadata": {},
   "outputs": [
    {
     "name": "stdout",
     "output_type": "stream",
     "text": [
      "Enter emp id:11\n",
      "Enter emp name:raj\n",
      "Enter emp department:bca\n",
      "Enter emp basic:20000\n",
      "Enter emp branch:surat\n",
      "Enter emp id:12\n",
      "Enter emp name:pratham\n",
      "Enter emp department:it\n",
      "Enter emp basic:21000\n",
      "Enter emp branch:banglor\n",
      "Enter emp id:13\n",
      "Enter emp name:bhavik\n",
      "Enter emp department:hr\n",
      "Enter emp basic:19000\n",
      "Enter emp branch:bardoli\n",
      "Enter emp id:14\n",
      "Enter emp name:neel\n",
      "Enter emp department:it\n",
      "Enter emp basic:18000\n",
      "Enter emp branch:surat\n",
      "Enter emp id:15\n",
      "Enter emp name:smit\n",
      "Enter emp department:hr\n",
      "Enter emp basic:17000\n",
      "Enter emp branch:delhi\n"
     ]
    }
   ],
   "source": [
    "for x in range(5):\n",
    "    no=int(input(\"Enter emp id:\"))\n",
    "    name=input(\"Enter emp name:\")\n",
    "    dept=input(\"Enter emp department:\")\n",
    "    basic=int(input(\"Enter emp basic:\"))\n",
    "    branch=input(\"Enter emp branch:\")\n",
    "    T=(no,name,dept,basic,branch)\n",
    "    L.append(T)"
   ]
  },
  {
   "cell_type": "code",
   "execution_count": null,
   "id": "5dc1860e",
   "metadata": {},
   "outputs": [],
   "source": []
  },
  {
   "cell_type": "code",
   "execution_count": 21,
   "id": "3ac3183e",
   "metadata": {},
   "outputs": [],
   "source": [
    "con.commit()"
   ]
  },
  {
   "cell_type": "markdown",
   "id": "1ae67fa2",
   "metadata": {},
   "source": [
    "3.Update Records Who are From \"Surat\" Branch With Increament In Salary 10%."
   ]
  },
  {
   "cell_type": "code",
   "execution_count": 22,
   "id": "7e225708",
   "metadata": {},
   "outputs": [],
   "source": [
    "U=\"update employee set basic=basic+(basic*10)/100 where branch='surat'\""
   ]
  },
  {
   "cell_type": "code",
   "execution_count": 23,
   "id": "273f15e8",
   "metadata": {},
   "outputs": [
    {
     "data": {
      "text/plain": [
       "<sqlite3.Cursor at 0x2335c0ec2c0>"
      ]
     },
     "execution_count": 23,
     "metadata": {},
     "output_type": "execute_result"
    }
   ],
   "source": [
    "cur.execute(U)"
   ]
  },
  {
   "cell_type": "code",
   "execution_count": 24,
   "id": "ff4d1c3e",
   "metadata": {},
   "outputs": [],
   "source": [
    "con.commit()"
   ]
  },
  {
   "cell_type": "markdown",
   "id": "9ad39f63",
   "metadata": {},
   "source": [
    "4.Print All Records."
   ]
  },
  {
   "cell_type": "code",
   "execution_count": 25,
   "id": "bd7929d6",
   "metadata": {},
   "outputs": [],
   "source": [
    "S=\"select * from employee\""
   ]
  },
  {
   "cell_type": "code",
   "execution_count": 26,
   "id": "bd8dd1f7",
   "metadata": {},
   "outputs": [
    {
     "data": {
      "text/plain": [
       "<sqlite3.Cursor at 0x2335c0ec2c0>"
      ]
     },
     "execution_count": 26,
     "metadata": {},
     "output_type": "execute_result"
    }
   ],
   "source": [
    "cur.execute(S)"
   ]
  },
  {
   "cell_type": "code",
   "execution_count": 27,
   "id": "6b1d2fb1",
   "metadata": {},
   "outputs": [],
   "source": [
    "R=cur.fetchall()"
   ]
  },
  {
   "cell_type": "code",
   "execution_count": 28,
   "id": "8b40b6eb",
   "metadata": {},
   "outputs": [
    {
     "name": "stdout",
     "output_type": "stream",
     "text": [
      "emp id: 11\n",
      "emp name: raj\n",
      "emp dept: bca\n",
      "emp basic: 14000\n",
      "emp branch: delhi\n",
      "emp id: 12\n",
      "emp name: neel\n",
      "emp dept: bca\n",
      "emp basic: 13000\n",
      "emp branch: nagpur\n",
      "emp id: 13\n",
      "emp name: keval\n",
      "emp dept: bca\n",
      "emp basic: 14520\n",
      "emp branch: surat\n",
      "emp id: 14\n",
      "emp name: bhavik\n",
      "emp dept: bba\n",
      "emp basic: 10000\n",
      "emp branch: bardoli\n",
      "emp id: 15\n",
      "emp name: pratham\n",
      "emp dept: mca\n",
      "emp basic: 17000\n",
      "emp branch: delhi\n"
     ]
    }
   ],
   "source": [
    "for y in range(len(R)):\n",
    "    print(\"emp id:\",(R[y][0]))\n",
    "    print(\"emp name:\",(R[y][1]))\n",
    "    print(\"emp dept:\",(R[y][2]))\n",
    "    print(\"emp basic:\",(R[y][3]))\n",
    "    print(\"emp branch:\",(R[y][4]))"
   ]
  },
  {
   "cell_type": "markdown",
   "id": "3883ed78",
   "metadata": {},
   "source": [
    "5.Print Records Where Dept Is \"HR\" And \"IT\"."
   ]
  },
  {
   "cell_type": "code",
   "execution_count": 29,
   "id": "f6218ddc",
   "metadata": {},
   "outputs": [],
   "source": [
    "Z=\"select * from employee where dept in('HR','IT')\""
   ]
  },
  {
   "cell_type": "code",
   "execution_count": 30,
   "id": "7671030d",
   "metadata": {},
   "outputs": [
    {
     "data": {
      "text/plain": [
       "<sqlite3.Cursor at 0x2335c0ec2c0>"
      ]
     },
     "execution_count": 30,
     "metadata": {},
     "output_type": "execute_result"
    }
   ],
   "source": [
    "cur.execute(Z)"
   ]
  },
  {
   "cell_type": "code",
   "execution_count": 31,
   "id": "c4da0cfd",
   "metadata": {},
   "outputs": [],
   "source": [
    "R=cur.fetchall()"
   ]
  },
  {
   "cell_type": "code",
   "execution_count": 32,
   "id": "0e9326d4",
   "metadata": {},
   "outputs": [],
   "source": [
    "for y in range(len(R)):\n",
    "    print(\"emp id:\",(R[y][0]))\n",
    "    print(\"emp name:\",(R[y][1]))\n",
    "    print(\"emp dept:\",(R[y][2]))\n",
    "    print(\"emp basic:\",(R[y][3]))\n",
    "    print(\"emp branch:\",(R[y][4]))"
   ]
  },
  {
   "cell_type": "raw",
   "id": "04718ce7",
   "metadata": {},
   "source": [
    "Enter emp id:12\n",
    "Enter emp name:pratham\n",
    "Enter emp department:it\n",
    "Enter emp basic:21000\n",
    "Enter emp branch:banglor\n",
    "Enter emp id:13\n",
    "Enter emp name:bhavik\n",
    "Enter emp department:hr\n",
    "Enter emp basic:19000\n",
    "Enter emp branch:bardoli\n",
    "Enter emp id:14\n",
    "Enter emp name:neel\n",
    "Enter emp department:it\n",
    "Enter emp basic:18000\n",
    "Enter emp branch:surat\n",
    "Enter emp id:15\n",
    "Enter emp name:smit\n",
    "Enter emp department:hr\n",
    "Enter emp basic:17000\n",
    "Enter emp branch:delhi"
   ]
  },
  {
   "cell_type": "markdown",
   "id": "e599abdc",
   "metadata": {},
   "source": [
    "6.Print Records In Sorting Order Of Department."
   ]
  },
  {
   "cell_type": "code",
   "execution_count": 33,
   "id": "07ade927",
   "metadata": {},
   "outputs": [],
   "source": [
    "B=\"select * from employee order by dept\""
   ]
  },
  {
   "cell_type": "code",
   "execution_count": 34,
   "id": "ed4d73a6",
   "metadata": {},
   "outputs": [
    {
     "data": {
      "text/plain": [
       "<sqlite3.Cursor at 0x2335c0ec2c0>"
      ]
     },
     "execution_count": 34,
     "metadata": {},
     "output_type": "execute_result"
    }
   ],
   "source": [
    "cur.execute(B)"
   ]
  },
  {
   "cell_type": "code",
   "execution_count": 35,
   "id": "273233c4",
   "metadata": {},
   "outputs": [],
   "source": [
    "R=cur.fetchall()"
   ]
  },
  {
   "cell_type": "code",
   "execution_count": 40,
   "id": "49310d4d",
   "metadata": {},
   "outputs": [
    {
     "name": "stdout",
     "output_type": "stream",
     "text": [
      "emp id: 14\n",
      "emp name: bhavik\n",
      "emp dept: bba\n",
      "emp basic: 10000\n",
      "emp branch: bardoli\n",
      "emp id: 11\n",
      "emp name: raj\n",
      "emp dept: bca\n",
      "emp basic: 14000\n",
      "emp branch: delhi\n",
      "emp id: 12\n",
      "emp name: neel\n",
      "emp dept: bca\n",
      "emp basic: 13000\n",
      "emp branch: nagpur\n",
      "emp id: 13\n",
      "emp name: keval\n",
      "emp dept: bca\n",
      "emp basic: 14520\n",
      "emp branch: surat\n",
      "emp id: 15\n",
      "emp name: pratham\n",
      "emp dept: mca\n",
      "emp basic: 17000\n",
      "emp branch: delhi\n"
     ]
    }
   ],
   "source": [
    "for y in range(len(R)):\n",
    "    print(\"emp id:\",(R[y][0]))\n",
    "    print(\"emp name:\",(R[y][1]))\n",
    "    print(\"emp dept:\",(R[y][2]))\n",
    "    print(\"emp basic:\",(R[y][3]))\n",
    "    print(\"emp branch:\",(R[y][4]))"
   ]
  },
  {
   "cell_type": "markdown",
   "id": "2d54ca52",
   "metadata": {},
   "source": [
    "7.Print records where basic is >6000."
   ]
  },
  {
   "cell_type": "code",
   "execution_count": 41,
   "id": "64556742",
   "metadata": {},
   "outputs": [],
   "source": [
    "B=\"select * from employee where basic>6000\""
   ]
  },
  {
   "cell_type": "code",
   "execution_count": 42,
   "id": "c734f596",
   "metadata": {},
   "outputs": [
    {
     "data": {
      "text/plain": [
       "<sqlite3.Cursor at 0x2335c0ec2c0>"
      ]
     },
     "execution_count": 42,
     "metadata": {},
     "output_type": "execute_result"
    }
   ],
   "source": [
    "cur.execute(B)"
   ]
  },
  {
   "cell_type": "code",
   "execution_count": 43,
   "id": "d0836bdc",
   "metadata": {},
   "outputs": [
    {
     "name": "stdout",
     "output_type": "stream",
     "text": [
      "emp id: 14\n",
      "emp name: bhavik\n",
      "emp dept: bba\n",
      "emp basic: 10000\n",
      "emp branch: bardoli\n",
      "emp id: 11\n",
      "emp name: raj\n",
      "emp dept: bca\n",
      "emp basic: 14000\n",
      "emp branch: delhi\n",
      "emp id: 12\n",
      "emp name: neel\n",
      "emp dept: bca\n",
      "emp basic: 13000\n",
      "emp branch: nagpur\n",
      "emp id: 13\n",
      "emp name: keval\n",
      "emp dept: bca\n",
      "emp basic: 14520\n",
      "emp branch: surat\n",
      "emp id: 15\n",
      "emp name: pratham\n",
      "emp dept: mca\n",
      "emp basic: 17000\n",
      "emp branch: delhi\n"
     ]
    }
   ],
   "source": [
    "for y in range(len(R)):\n",
    "    print(\"emp id:\",(R[y][0]))\n",
    "    print(\"emp name:\",(R[y][1]))\n",
    "    print(\"emp dept:\",(R[y][2]))\n",
    "    print(\"emp basic:\",(R[y][3]))\n",
    "    print(\"emp branch:\",(R[y][4]))"
   ]
  },
  {
   "cell_type": "markdown",
   "id": "2d3746ca",
   "metadata": {},
   "source": [
    "8.Print records whrere employee name second character is \"r\"."
   ]
  },
  {
   "cell_type": "code",
   "execution_count": 44,
   "id": "b7544e1b",
   "metadata": {},
   "outputs": [],
   "source": [
    "v=\"select * from employee where ename like'_r%'\"\n"
   ]
  },
  {
   "cell_type": "code",
   "execution_count": 45,
   "id": "1d561911",
   "metadata": {},
   "outputs": [
    {
     "data": {
      "text/plain": [
       "<sqlite3.Cursor at 0x2335c0ec2c0>"
      ]
     },
     "execution_count": 45,
     "metadata": {},
     "output_type": "execute_result"
    }
   ],
   "source": [
    "cur.execute(v)"
   ]
  },
  {
   "cell_type": "code",
   "execution_count": 46,
   "id": "ec100020",
   "metadata": {},
   "outputs": [],
   "source": [
    "R=cur.fetchall()"
   ]
  },
  {
   "cell_type": "code",
   "execution_count": 47,
   "id": "b508d1e0",
   "metadata": {},
   "outputs": [
    {
     "name": "stdout",
     "output_type": "stream",
     "text": [
      "emp id: 15\n",
      "emp name: pratham\n",
      "emp dept: mca\n",
      "emp basic: 17000\n",
      "emp branch: delhi\n"
     ]
    }
   ],
   "source": [
    "for y in range(len(R)):\n",
    "    print(\"emp id:\",(R[y][0]))\n",
    "    print(\"emp name:\",(R[y][1]))\n",
    "    print(\"emp dept:\",(R[y][2]))\n",
    "    print(\"emp basic:\",(R[y][3]))\n",
    "    print(\"emp branch:\",(R[y][4]))"
   ]
  },
  {
   "cell_type": "markdown",
   "id": "6afd12df",
   "metadata": {},
   "source": [
    "9.Grouping record of employee who are from \"Account\" and \"Inventory\"."
   ]
  },
  {
   "cell_type": "code",
   "execution_count": 48,
   "id": "58de1bbf",
   "metadata": {},
   "outputs": [],
   "source": [
    "c=\"select * from employee where dept in('Account','Inventory') group by dept\""
   ]
  },
  {
   "cell_type": "code",
   "execution_count": 49,
   "id": "b5f01488",
   "metadata": {},
   "outputs": [
    {
     "data": {
      "text/plain": [
       "<sqlite3.Cursor at 0x2335c0ec2c0>"
      ]
     },
     "execution_count": 49,
     "metadata": {},
     "output_type": "execute_result"
    }
   ],
   "source": [
    "cur.execute(c)"
   ]
  },
  {
   "cell_type": "code",
   "execution_count": 50,
   "id": "f6170e41",
   "metadata": {},
   "outputs": [],
   "source": [
    "\n",
    "R=cur.fetchall()"
   ]
  },
  {
   "cell_type": "code",
   "execution_count": 51,
   "id": "8b0577b3",
   "metadata": {},
   "outputs": [],
   "source": [
    "for y in range(len(R)):\n",
    "    print(\"emp id:\",(R[y][0]))\n",
    "    print(\"emp name:\",(R[y][1]))\n",
    "    print(\"emp dept:\",(R[y][2]))\n",
    "    print(\"emp basic:\",(R[y][3]))\n",
    "    print(\"emp branch:\",(R[y][4]))"
   ]
  },
  {
   "cell_type": "markdown",
   "id": "1d04d1a3",
   "metadata": {},
   "source": [
    "10.Print all records based on branch name in descending order."
   ]
  },
  {
   "cell_type": "code",
   "execution_count": 53,
   "id": "ede0c31c",
   "metadata": {},
   "outputs": [],
   "source": [
    "m=\"select * from employee order by dept desc\""
   ]
  },
  {
   "cell_type": "code",
   "execution_count": 54,
   "id": "ec832ae1",
   "metadata": {},
   "outputs": [
    {
     "data": {
      "text/plain": [
       "<sqlite3.Cursor at 0x2335c0ec2c0>"
      ]
     },
     "execution_count": 54,
     "metadata": {},
     "output_type": "execute_result"
    }
   ],
   "source": [
    "cur.execute(m)"
   ]
  },
  {
   "cell_type": "code",
   "execution_count": 55,
   "id": "0bf4586b",
   "metadata": {},
   "outputs": [],
   "source": [
    "R=cur.fetchall()"
   ]
  },
  {
   "cell_type": "code",
   "execution_count": 56,
   "id": "14d28f6e",
   "metadata": {},
   "outputs": [
    {
     "name": "stdout",
     "output_type": "stream",
     "text": [
      "emp id: 15\n",
      "emp name: pratham\n",
      "emp dept: mca\n",
      "emp basic: 17000\n",
      "emp branch: delhi\n",
      "emp id: 11\n",
      "emp name: raj\n",
      "emp dept: bca\n",
      "emp basic: 14000\n",
      "emp branch: delhi\n",
      "emp id: 12\n",
      "emp name: neel\n",
      "emp dept: bca\n",
      "emp basic: 13000\n",
      "emp branch: nagpur\n",
      "emp id: 13\n",
      "emp name: keval\n",
      "emp dept: bca\n",
      "emp basic: 14520\n",
      "emp branch: surat\n",
      "emp id: 14\n",
      "emp name: bhavik\n",
      "emp dept: bba\n",
      "emp basic: 10000\n",
      "emp branch: bardoli\n"
     ]
    }
   ],
   "source": [
    "for y in range(len(R)):\n",
    "    print(\"emp id:\",(R[y][0]))\n",
    "    print(\"emp name:\",(R[y][1]))\n",
    "    print(\"emp dept:\",(R[y][2]))\n",
    "    print(\"emp basic:\",(R[y][3]))\n",
    "    print(\"emp branch:\",(R[y][4]))"
   ]
  },
  {
   "cell_type": "code",
   "execution_count": 57,
   "id": "82cffaa5",
   "metadata": {},
   "outputs": [],
   "source": [
    "con.commit()"
   ]
  },
  {
   "cell_type": "code",
   "execution_count": 58,
   "id": "bb96af41",
   "metadata": {},
   "outputs": [],
   "source": [
    "con.close()"
   ]
  },
  {
   "cell_type": "code",
   "execution_count": null,
   "id": "5197d7d0",
   "metadata": {},
   "outputs": [],
   "source": []
  }
 ],
 "metadata": {
  "kernelspec": {
   "display_name": "Python 3 (ipykernel)",
   "language": "python",
   "name": "python3"
  },
  "language_info": {
   "codemirror_mode": {
    "name": "ipython",
    "version": 3
   },
   "file_extension": ".py",
   "mimetype": "text/x-python",
   "name": "python",
   "nbconvert_exporter": "python",
   "pygments_lexer": "ipython3",
   "version": "3.10.10"
  }
 },
 "nbformat": 4,
 "nbformat_minor": 5
}
